{
 "cells": [
  {
   "cell_type": "code",
   "execution_count": 1,
   "metadata": {},
   "outputs": [],
   "source": [
    "import numpy as np\n",
    "import pandas as pd\n",
    "import matplotlib.pyplot as plt"
   ]
  },
  {
   "cell_type": "markdown",
   "metadata": {},
   "source": [
    "Đọc dữ liệu từ file train_data, hiển thị thông tin cần thiết."
   ]
  },
  {
   "cell_type": "code",
   "execution_count": null,
   "metadata": {},
   "outputs": [],
   "source": [
    "dataTrain_titanic = pd.read_csv('D:/Hocmay/Titanic_ML_From_Disaster/Titanic_Project_Information_Data/train.csv')\n",
    "dataTrain_titanic"
   ]
  },
  {
   "cell_type": "code",
   "execution_count": null,
   "metadata": {},
   "outputs": [],
   "source": [
    "dataTrain_titanic.head()"
   ]
  },
  {
   "cell_type": "markdown",
   "metadata": {},
   "source": [
    "Convert cột PassengerId của Data Train thành cột index trong DataFrame."
   ]
  },
  {
   "cell_type": "code",
   "execution_count": null,
   "metadata": {},
   "outputs": [],
   "source": [
    "dataTrain_titanic.set_index('PassengerId', inplace=True)\n",
    "dataTrain_titanic.head()"
   ]
  },
  {
   "cell_type": "markdown",
   "metadata": {},
   "source": [
    "Ở file train_data, xuất hiện cột \"Survived\" là cột cần dự đoán, còn ở file test_data, không có cột \"Survived\"."
   ]
  },
  {
   "cell_type": "code",
   "execution_count": null,
   "metadata": {},
   "outputs": [],
   "source": [
    "dataTest_titanic = pd.read_csv('D:/Hocmay/Titanic_ML_From_Disaster/Titanic_Project_Information_Data/test.csv')\n",
    "dataTest_titanic"
   ]
  },
  {
   "cell_type": "code",
   "execution_count": null,
   "metadata": {},
   "outputs": [],
   "source": [
    "dataTest_titanic.head()"
   ]
  },
  {
   "cell_type": "markdown",
   "metadata": {},
   "source": [
    "Convert cột PassengerId của Data Test thành cột index trong DataFrame."
   ]
  },
  {
   "cell_type": "code",
   "execution_count": null,
   "metadata": {},
   "outputs": [],
   "source": [
    "dataTest_titanic.set_index('PassengerId', inplace=True)\n",
    "dataTest_titanic.head()"
   ]
  },
  {
   "cell_type": "markdown",
   "metadata": {},
   "source": [
    "Tạo ra 1 bảng thống kê tóm tắt các cột số trong dataframe. Bảng thống kê này bao gồm các thông tin sau:\n",
    "- count: số lượng giá trị không bị thiếu\n",
    "- mean: giá trị trung bình\n",
    "- std: độ lệch chuẩn\n",
    "- min: giá trị nhỏ nhất\n",
    "- 25%: phần centile 25\n",
    "- 50%: phần centile 50\n",
    "- 75%: phần centile 75\n",
    "- max: giá trị lớn nhất"
   ]
  },
  {
   "cell_type": "markdown",
   "metadata": {},
   "source": [
    "[4]:    \n",
    "**SibSp** ranges from 0 to 8, so it is divided into the following stages:\n",
    "- Group 1: SibSp = 0\n",
    "- Group 2: SibSp = 1\n",
    "- Group 3: SibSp = 2\n",
    "- Group 4: SibSp = 3\n",
    "- Group 5: SibSp = 4\n",
    "- Group 6: SibSp = 5\n",
    "- Group 7: SibSp = 8\n",
    "\n",
    "In the training data, SibSp values of 6 and 7 do not appear, so they will not be considered, and the maximum value displayed is 8.\n",
    "\n",
    "**Parch** ranges from 0 to 6, so it is divided into the following stages:\n",
    "- Group 1: Parch = 0\n",
    "- Group 2: Parch = 1\n",
    "- Group 3: Parch = 2\n",
    "- Group 4: Parch = 3\n",
    "- Group 5: Parch = 4\n",
    "- Group 6: Parch = 5\n",
    "- Group 7: Parch = 6\n",
    "\n",
    "In the training data, Parch values greater than 6 do not appear, so they will not be considered, and the maximum value displayed is 6.\n"
   ]
  },
  {
   "cell_type": "code",
   "execution_count": null,
   "metadata": {},
   "outputs": [],
   "source": [
    "dataTrain_titanic.describe()"
   ]
  },
  {
   "cell_type": "markdown",
   "metadata": {},
   "source": [
    "Display the correlation heatmap for the groups above."
   ]
  },
  {
   "cell_type": "code",
   "execution_count": null,
   "metadata": {},
   "outputs": [],
   "source": [
    "import seaborn as sns\n",
    "\n",
    "sns.heatmap(dataTrain_titanic.corr(numeric_only=True), cmap=\"inferno\", annot=True)\n",
    "plt.show()"
   ]
  },
  {
   "cell_type": "markdown",
   "metadata": {},
   "source": [
    "Because the new version of the Seaborn library no longer supports writing `sns.heatmap(dataTrain_titanic.corr(), cmap=\"inferno\", annot=True)` in this way in the `sns.heatmap` function, the solution is to pass a boolean parameter into the `heatmap` function, `sns.heatmap(dataTrain_titanic.corr(numeric_only=True), cmap=\"inferno\", annot=True)`. If `True`, the value will be displayed on the heatmap, and if `False`, the value will not be displayed. https://seaborn.pydata.org/generated/seaborn.heatmap.html"
   ]
  },
  {
   "cell_type": "markdown",
   "metadata": {},
   "source": [
    "Method \"stratified random split of training data\" đảm bảo rằng mỗi tập con của dữ liệu huấn luyện (sau khi chia) có sự phân bổ tương tự như tổng thể dữ liệu ban đầu đối với một số đặc tính nhất định (ví dụ: tỷ lệ của các phòng)."
   ]
  },
  {
   "cell_type": "markdown",
   "metadata": {},
   "source": [
    "Sử dụng 80% dữ liệu để huấn luyện và 20% dữ liệu để kiểm tra."
   ]
  },
  {
   "cell_type": "code",
   "execution_count": 10,
   "metadata": {},
   "outputs": [],
   "source": [
    "dataTrain_titanic = dataTrain_titanic.reset_index(drop=True)"
   ]
  },
  {
   "cell_type": "markdown",
   "metadata": {},
   "source": [
    "Reset lại chỉ số của DataFrame dataTrain_titanic trước khi chia dữ liệu, để các chỉ số của DataFrame là liên tục và bắt đầu từ 0."
   ]
  },
  {
   "cell_type": "code",
   "execution_count": 11,
   "metadata": {},
   "outputs": [],
   "source": [
    "from sklearn.model_selection import StratifiedShuffleSplit\n",
    "\n",
    "split = StratifiedShuffleSplit(n_splits=1, test_size=0.2)\n",
    "for train_indices, test_indices in split.split(dataTrain_titanic, dataTrain_titanic[[\"Survived\", \"Pclass\", \"Sex\"]]):\n",
    "    strat_train_set = dataTrain_titanic.loc[train_indices]\n",
    "    strat_test_set = dataTrain_titanic.loc[test_indices]"
   ]
  },
  {
   "cell_type": "code",
   "execution_count": null,
   "metadata": {},
   "outputs": [],
   "source": [
    "strat_test_set"
   ]
  },
  {
   "cell_type": "markdown",
   "metadata": {},
   "source": [
    "Vẽ biểu đồ Histogram của các nhóm trên dữ liệu huấn luyện và dữ liệu kiểm tra.\n"
   ]
  },
  {
   "cell_type": "code",
   "execution_count": null,
   "metadata": {},
   "outputs": [],
   "source": [
    "plt.subplot(1, 2, 1)\n",
    "strat_train_set[\"Survived\"].hist()\n",
    "strat_train_set[\"Pclass\"].hist()\n",
    "\n",
    "plt.subplot(1, 2, 2)\n",
    "strat_test_set[\"Survived\"].hist()\n",
    "strat_test_set[\"Pclass\"].hist()\n",
    "\n",
    "plt.show()"
   ]
  },
  {
   "cell_type": "markdown",
   "metadata": {},
   "source": [
    "Tạo ra 4 biểu đồ histogram để so sánh phân phối các cột Survived, Pclass giữa dữ liệu huấn luyện và dữ liệu kiểm tra."
   ]
  },
  {
   "cell_type": "code",
   "execution_count": null,
   "metadata": {},
   "outputs": [],
   "source": [
    "plt.figure(figsize=(12, 6))\n",
    "\n",
    "plt.subplot(2, 2, 1)\n",
    "strat_train_set[\"Survived\"].hist()\n",
    "plt.title(\"Training Set - Survived\")\n",
    "\n",
    "plt.subplot(2, 2, 2)\n",
    "strat_train_set[\"Pclass\"].hist()\n",
    "plt.title(\"Training Set - Pclass\")\n",
    "\n",
    "plt.subplot(2, 2, 3)\n",
    "strat_test_set[\"Survived\"].hist()\n",
    "plt.title(\"Test Set - Survived\")\n",
    "\n",
    "plt.subplot(2, 2, 4)\n",
    "strat_test_set[\"Pclass\"].hist()\n",
    "plt.title(\"Test Set - Pclass\")\n",
    "\n",
    "plt.tight_layout()\n",
    "plt.show()"
   ]
  },
  {
   "cell_type": "markdown",
   "metadata": {},
   "source": [
    "Phân ra categorical và numerical features để nhận biết kiểu dữ liệu phục vụ cho việc xử lý giá trị bị thiếu và huấn luyện mô hình.\n",
    "\n",
    "Categorical Features - Đặc điểm phân loại:\n",
    "- nominal: không có thứ tự, không thể so sánh với nhau.\n",
    "- ordinal: có thứ tự, có thể so sánh với nhau.\n",
    "- ratio: có thứ tự, có thể so sánh với nhau, có giá trị 0.\n",
    "- interval: có thứ tự, có thể so sánh với nhau, không có giá trị 0.\n",
    "\n",
    "Numerical Features - Đặc điểm số:\n",
    "- discrete: giá trị rời rạc.\n",
    "- continuous: giá trị liên tục.\n",
    "- time-series: giá trị thời gian."
   ]
  },
  {
   "cell_type": "code",
   "execution_count": null,
   "metadata": {},
   "outputs": [],
   "source": [
    "dataTrain_titanic.info()"
   ]
  },
  {
   "cell_type": "markdown",
   "metadata": {},
   "source": [
    "Kết quả cho thấy: Data columns (total 12 columns): có 12 cột dữ liệu, chi tiết như sau:\n",
    "- Survived: sống sót hay không.\n",
    "  - non-null: 891 (không có giá trị bị thiếu).\n",
    "  - data type: int64 (kiểu dữ liệu số nguyên).\n",
    "  - unique: 2 (có 2 giá trị duy nhất).\n",
    "- Pclass: hạng ghế.\n",
    "  - non-null: 891 (không có giá trị bị thiếu).\n",
    "  - data type: int64 (kiểu dữ liệu số nguyên).\n",
    "  - unique: 3 (có 3 giá trị duy nhất).\n",
    "- Name: tên hành khách.\n",
    "  - non-null: 891 (không có giá trị bị thiếu).\n",
    "  - data type: object (kiểu dữ liệu chuỗi).\n",
    "- Sex: giới tính.\n",
    "  - non-null: 891 (không có giá trị bị thiếu).\n",
    "  - data type: object (kiểu dữ liệu chuỗi).\n",
    "  - unique: 2 (có 2 giá trị duy nhất).\n",
    "- Age: tuổi.\n",
    "  - non-null: 714 (có 177 giá trị bị thiếu).\n",
    "  - data type: float64 (kiểu dữ liệu số thực).\n",
    "  - mean: 29.7 (giá trị trung bình).\n",
    "- SibSp: số lượng anh chị em hoặc vợ chồng đi cùng.\n",
    "  - non-null: 891 (không có giá trị bị thiếu).\n",
    "  - data type: int64 (kiểu dữ liệu số nguyên).\n",
    "  - unique: 7 (có 7 giá trị duy nhất).\n",
    "- Parch: số lượng cha mẹ hoặc con cái đi cùng.\n",
    "  - non-null: 891 (không có giá trị bị thiếu).\n",
    "  - data type: int64 (kiểu dữ liệu số nguyên).\n",
    "  - unique: 7 (có 7 giá trị duy nhất).\n",
    "- Ticket: số vé.\n",
    "  - non-null: 891 (không có giá trị bị thiếu).\n",
    "  - data type: object (kiểu dữ liệu chuỗi).\n",
    "- Fare: giá vé.\n",
    "  - non-null: 891 (không có giá trị bị thiếu).\n",
    "  - data type: float64 (kiểu dữ liệu số thực).\n",
    "  - mean: 32.2 (giá trị trung bình).\n",
    "- Cabin: số phòng.\n",
    "  - non-null: 204 (có 687 giá trị bị thiếu).\n",
    "  - data type: object (kiểu dữ liệu chuỗi).\n",
    "Embarked: cảng lên tàu.\n",
    "  - non-null: 889 (có 2 giá trị bị thiếu).\n",
    "  - data type: object (kiểu dữ liệu chuỗi).\n",
    "  - unique: 3 (có 3 giá trị duy nhất). "
   ]
  },
  {
   "cell_type": "markdown",
   "metadata": {},
   "source": [
    "Age, Cabin, Embarked là 3 giá trị bị missing value -> cần xử lý missing value."
   ]
  },
  {
   "cell_type": "markdown",
   "metadata": {},
   "source": [
    "Giải thích loại Data Type của các mục dữ liệu:\n",
    "- Survived có 2 giá trị duy nhất là 0 và 1:\n",
    "  - 0: không sống sót.\n",
    "  - 1: sống sót.\n",
    "  - Nên Survived là kiểu dữ liệu số nguyên.\n",
    "- Pclass có 3 giá trị duy nhất là 1, 2 và 3:\n",
    "  - 1: phòng hạng 1.\n",
    "  - 2: phòng hạng 2.\n",
    "  - 3: phòng hạng 3.\n",
    "  - Nên Pclass là kiểu dữ liệu số nguyên.\n",
    "- Name là chuỗi ký tự, không thể so sánh\n",
    "  - Nên Name là kiểu dữ liệu chuỗi.\n",
    "- Sex có 2 giá trị duy nhất:\n",
    "  - male: giới tính nam.\n",
    "  - female: giới tính nữ.\n",
    "  - Nên Sex là kiểu dữ liệu chuỗi.\n",
    "- Age là số thực, có giá trị trung bình là 29.7.\n",
    "  - Nên Age là kiểu dữ liệu số thực.\n",
    "- SibSp có 7 giá trị (1 ace/vochong, 2 ace/vochong,... 8 ace/vochong):\n",
    "  - Nên SibSp là kiểu dữ liệu số nguyên.\n",
    "- Parch có 7 giá trị (1 con, 2 con,... 6 con):\n",
    "  - Nên Parch là kiểu dữ liệu số nguyên.\n",
    "- Ticket là chuỗi ký tự, không thể so sánh\n",
    "  - Nên Ticket là kiểu dữ liệu chuỗi.\n",
    "- Fare là giá vé tàu:\n",
    "  - Nên Fare là kiểu dữ liệu số thực.\n",
    "- Cabin là chuỗi ký tự, không thể so sánh\n",
    "  - Nên Cabin là kiểu dữ liệu chuỗi.\n",
    "- Embarked có 3 giá trị duy nhất là S, C và Q:\n",
    "  - S: Southampton.\n",
    "  - C: Cherbourg.\n",
    "  - Q: Queenstown.\n",
    "  - Nên Embarked là kiểu dữ liệu chuỗi."
   ]
  },
  {
   "cell_type": "code",
   "execution_count": null,
   "metadata": {},
   "outputs": [],
   "source": [
    "strat_train_set.info()"
   ]
  },
  {
   "cell_type": "markdown",
   "metadata": {},
   "source": [
    "Kết quả cho thấy: tập dữ liệu train có\n",
    "Index: 712 hàng, mỗi hàng đại diện cho một hành khách trên tàu Titanic.\n",
    "Data columns (total 12 columns): có 12 cột dữ liệu, chi tiêt như sau:\n",
    "- PassengerId: số thứ tự hành khách.\n",
    "  - non-null: 712 (không có giá trị thiếu)\n",
    "  - dtype: int64 (kiểu dữ liệu là số nguyên)\n",
    "- Survived: số người sống sót\n",
    "  - non-null: 712 (không có giá trị thiếu)\n",
    "  - dtype: int64 (kiểu dữ liệu là số nguyên)\n",
    "- Pclass: hạng vé\n",
    "  - non-null: 712 (không có giá trị thiếu)\n",
    "  - dtype: int64 (kiểu dữ liệu là số nguyên)\n",
    "- Name: tên hành khách\n",
    "  - non-null: 712 (không có giá trị thiếu)\n",
    "  - dtype: object (kiểu dữ liệu là chuỗi)\n",
    "- Sex: giới tính\n",
    "  - non-null: 712 (không có giá trị thiếu)\n",
    "  - dtype: object (kiểu dữ liệu là chuỗi)\n",
    "- Age: tuổi\n",
    "  - non-null: 568 (có giá trị thiếu)\n",
    "  - dtype: float64 (kiểu dữ liệu là số thực)\n",
    "  - note: data train có tổng cộng 712 hành khách, trong đó có 568 hành khách có thông tin về tuổi và 144 hành khách không có thông tin về tuổi.\n",
    "- SibSp: số lượng anh chị em hoặc vợ chồng đi cùng\n",
    "  - non-null: 712 (không có giá trị thiếu)\n",
    "  - dtype: int64 (kiểu dữ liệu là số nguyên)\n",
    "- Parch: số lượng bố mẹ hoặc con cái đi cùng\n",
    "  - non-null: 712 (không có giá trị thiếu)\n",
    "  - dtype: int64 (kiểu dữ liệu là số nguyên)\n",
    "- Ticket: số vé\n",
    "  - non-null: 712 (không có giá trị thiếu)\n",
    "  - dtype: object (kiểu dữ liệu là chuỗi)\n",
    "- Fare: giá vé\n",
    "  - non-null: 712 (không có giá trị thiếu)\n",
    "  - dtype: float64 (kiểu dữ liệu là số thực)\n",
    "- Cabin: số phòng\n",
    "  - non-null: 161 (có giá trị thiếu)\n",
    "  - dtype: object (kiểu dữ liệu là chuỗi)\n",
    "  - note: data train có tổng cộng 712 hành khách, trong đó có 161 hành khách có thông tin về số phòng và 551 hành khách không có thông tin về số phòng.\n",
    "- Embarked: cảng lên tàu\n",
    "  - non-null: 710 (có giá trị thiếu)\n",
    "  - dtype: object (kiểu dữ liệu là chuỗi)\n",
    "  - note: data train có tổng cộng 712 hành khách, trong đó có 710 hành khách có thông tin về cảng lên tàu và 2 hành khách không có thông tin về cảng lên tàu."
   ]
  },
  {
   "cell_type": "code",
   "execution_count": null,
   "metadata": {},
   "outputs": [],
   "source": [
    "dataTest_titanic.info()"
   ]
  },
  {
   "cell_type": "markdown",
   "metadata": {},
   "source": [
    "Categorical: Survived, Sex, Embarked, Pclass(ordinal), SibSp, Parch\n",
    "Numerical(continuous): Age, Fare\n",
    "Mix types of data: Ticket, Cabin\n",
    "Contain errors or typos: Name\n",
    "Blank, null or empty values: Age > Cabin > Embarked\n",
    "Various Data Types: float64, int64, object(String)  (0 - 1: categorical)"
   ]
  },
  {
   "cell_type": "code",
   "execution_count": null,
   "metadata": {},
   "outputs": [],
   "source": []
  },
  {
   "cell_type": "code",
   "execution_count": null,
   "metadata": {},
   "outputs": [],
   "source": [
    "strat_test_set.info()"
   ]
  },
  {
   "cell_type": "markdown",
   "metadata": {},
   "source": [
    "Ép kiểu dữ liệu của cột."
   ]
  },
  {
   "cell_type": "code",
   "execution_count": 20,
   "metadata": {},
   "outputs": [],
   "source": [
    "dataTrain_titanic[\"Survived\"] = dataTrain_titanic[\"Survived\"].astype('category')"
   ]
  },
  {
   "cell_type": "markdown",
   "metadata": {},
   "source": [
    "Check kiểu dữ liệu cột Survived, nếu kiểu dữ liệu là int64 thì chuyển thành category."
   ]
  },
  {
   "cell_type": "code",
   "execution_count": null,
   "metadata": {},
   "outputs": [],
   "source": [
    "dataTrain_titanic[\"Survived\"].dtype"
   ]
  },
  {
   "cell_type": "markdown",
   "metadata": {},
   "source": [
    "Check lại data Train sau khi chuyển kiểu dữ liệu của cột Survived."
   ]
  },
  {
   "cell_type": "code",
   "execution_count": null,
   "metadata": {},
   "outputs": [],
   "source": [
    "dataTrain_titanic.info()"
   ]
  },
  {
   "cell_type": "markdown",
   "metadata": {},
   "source": [
    "tạo Function để chuyển kiểu dữ liệu của cột từ các kiểu dữ liệu int, object, float sang category để: giảm dung lượng bộ nhớ, tăng tốc độ xử lý dữ liệu, dễ dàng xử lý các giá trị phân loại -> trực quan hóa dữ liệu và giảm thời gian huấn luyện mô hình."
   ]
  },
  {
   "cell_type": "code",
   "execution_count": 24,
   "metadata": {},
   "outputs": [],
   "source": [
    "converted_dataTrain = [\"Pclass\", \"Sex\", \"SibSp\", \"Parch\", \"Embarked\"]\n",
    "def convert_cat(df, converted_dataTrain):\n",
    "    for convert in converted_dataTrain:\n",
    "        df[convert] = df[convert].astype('category') # 1\n",
    "        # df.convert = df.converted_dataTrain.astype('category') # 2\n",
    "        \n",
    "convert_cat(dataTrain_titanic, converted_dataTrain) # dataTrain_titanic.convert_cat(converted_dataTrain)\n",
    "convert_cat(dataTest_titanic, converted_dataTrain) # dataTest_titanic.convert_cat(converted_dataTrain)"
   ]
  },
  {
   "cell_type": "markdown",
   "metadata": {},
   "source": [
    "các kiểu dữ liệu nào thuộc category hoặc object thì chuyển sang category -> giúp trực quan hóa dữ liệu hơn."
   ]
  },
  {
   "cell_type": "code",
   "execution_count": null,
   "metadata": {},
   "outputs": [],
   "source": [
    "dataTrain_titanic.info()\n",
    "dataTest_titanic.info()"
   ]
  },
  {
   "cell_type": "markdown",
   "metadata": {},
   "source": [
    "Ước lượng tỷ lệ sống sót trên tàu Titanic."
   ]
  },
  {
   "cell_type": "code",
   "execution_count": 17,
   "metadata": {},
   "outputs": [],
   "source": [
    "from sklearn.base import BaseEstimator, TransformerMixin"
   ]
  }
 ],
 "metadata": {
  "kernelspec": {
   "display_name": "Python 3",
   "language": "python",
   "name": "python3"
  },
  "language_info": {
   "codemirror_mode": {
    "name": "ipython",
    "version": 3
   },
   "file_extension": ".py",
   "mimetype": "text/x-python",
   "name": "python",
   "nbconvert_exporter": "python",
   "pygments_lexer": "ipython3",
   "version": "3.12.5"
  }
 },
 "nbformat": 4,
 "nbformat_minor": 2
}
